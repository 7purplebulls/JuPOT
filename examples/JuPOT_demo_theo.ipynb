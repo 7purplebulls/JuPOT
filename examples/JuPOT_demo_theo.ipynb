{
 "cells": [
  {
   "cell_type": "code",
   "execution_count": 21,
   "metadata": {
    "collapsed": false,
    "scrolled": true
   },
   "outputs": [
    {
     "data": {
      "text/plain": [
       "QQp    0.08806865261158969 \n",
       "ZMB    0.6949216413385797 \n",
       "UTZ    0.3145332076459437 \n",
       "8CM    0.5642730051646005 \n",
       "8xg    0.2884974955107298 \n",
       "zOr    0.8998229318702884 \n",
       "dLj    0.5671327597262696 \n",
       "XOP    0.3695627194119302 \n",
       "QgP    0.3675334876122882 \n",
       "vPf    0.08253969957329166 \n",
       "sU4    0.14715595205758292 \n",
       "Eah    0.9000584570258121 \n",
       "R2T    0.059162719401035124 \n",
       "IzZ    0.415373210010761 \n",
       "lCZ    0.2638403970867478 \n",
       "oky    0.09278341751245422 \n",
       "tc0    0.009032579565787957 \n",
       "XTc    0.5493240824498342 \n",
       "gBy    0.15654886985633643 \n",
       "rAU    0.026900688370821824 \n"
      ]
     },
     "execution_count": 21,
     "metadata": {},
     "output_type": "execute_result"
    }
   ],
   "source": [
    "push!(LOAD_PATH, \"$(homedir())/Documents/RBC_Capstone/financial-opt-tools/src\")\n",
    "\n",
    "using JuPOT\n",
    "\n",
    "# Generate synthetic data sets for Demonstration\n",
    "\n",
    "############\n",
    "# Asset #1 #\n",
    "############\n",
    "n = 10 # No. Of Assets\n",
    "ret_1 = rand(n)\n",
    "cov_1 = let\n",
    "    S = randn(n, n)\n",
    "    S'S + eye(n)\n",
    "end\n",
    "names_1 = [randstring(3) for i in 1:n] # List of asset names\n",
    "\n",
    "# Assets data structure containing, names, expected returns, covariance\n",
    "assets_1 = AssetsCollection(names_1, ret_1, cov_1) \n",
    "\n",
    "############\n",
    "# Asset #2 #\n",
    "############\n",
    "n = 20 # No. Of Assets\n",
    "ret_2 = rand(n)\n",
    "cov_2 = let\n",
    "    S = randn(n, n)\n",
    "    S'S + eye(n)\n",
    "end\n",
    "target_return = 0.2\n",
    "names_2 = [randstring(3) for i in 1:n] # List of asset names\n",
    "# Assets data structure containing, names, expected returns, covariance\n",
    "assets_2 = AssetsCollection(names_2, ret_2, cov_2) \n",
    "\n",
    "\n"
   ]
  },
  {
   "cell_type": "code",
   "execution_count": 20,
   "metadata": {
    "collapsed": false
   },
   "outputs": [
    {
     "data": {
      "text/plain": [
       "10-element Array{Float64,1}:\n",
       " 0.0122635 \n",
       " 0.0818057 \n",
       " 1.95719e-9\n",
       " 0.300784  \n",
       " 0.0797592 \n",
       " 0.161249  \n",
       " 0.127173  \n",
       " 0.0833155 \n",
       " 0.0190067 \n",
       " 0.134643  "
      ]
     },
     "execution_count": 20,
     "metadata": {},
     "output_type": "execute_result"
    }
   ],
   "source": [
    "######################################################\n",
    "################### SIMPLE MVO #######################\n",
    "######################################################\n",
    "\n",
    "# Example 1: Basic \n",
    "\n",
    "# refer to model definition for keyword arguments, etc.\n",
    "mvo_1 = SimpleMVO(assets_1, target_return; short_sale=false)\n",
    "sym_1 = Dict(:place => 0.1)\n",
    "optimize(mvo_1, sym_1)"
   ]
  },
  {
   "cell_type": "code",
   "execution_count": 6,
   "metadata": {
    "collapsed": false
   },
   "outputs": [
    {
     "ename": "LoadError",
     "evalue": "LoadError: in @addNLConstraint (0.01 .<= w .<= 0.5): only ranged rows of the form lb <= expr <= ub are supported.\nwhile loading In[6], in expression starting on line 10",
     "output_type": "error",
     "traceback": [
      "LoadError: in @addNLConstraint (0.01 .<= w .<= 0.5): only ranged rows of the form lb <= expr <= ub are supported.\nwhile loading In[6], in expression starting on line 10",
      "",
      " in createJuMPModelGenFunc at C:\\Users\\Theofilos\\Documents\\RBC_Capstone\\financial-opt-tools\\src\\core/utils.jl:84",
      " in optimize at C:\\Users\\Theofilos\\Documents\\RBC_Capstone\\financial-opt-tools\\src\\core/abstractmodel.jl:70",
      " in optimize at C:\\Users\\Theofilos\\Documents\\RBC_Capstone\\financial-opt-tools\\src\\core/abstractmodel.jl:57"
     ]
    }
   ],
   "source": [
    "##################################\n",
    "# Example 2: Adding a Constraint #\n",
    "##################################\n",
    "\n",
    "# Adding a simple weight constraint\n",
    "constraints_1 = Dict(:constraint1 => :(min_thresh .<= w .<= max_thresh))\n",
    "\n",
    "syms_1 = Dict(:max_thresh => 0.5, :min_thresh => 0.1/n)\n",
    "\n",
    "# refer to model definition for keyword arguments, etc.\n",
    "mvo_1 = SimpleMVO(assets_1, target_return, constraints_1; short_sale=false)\n",
    "optimize(mvo_1, syms_1)"
   ]
  },
  {
   "cell_type": "code",
   "execution_count": 11,
   "metadata": {
    "collapsed": false
   },
   "outputs": [
    {
     "ename": "LoadError",
     "evalue": "LoadError: in @addNLConstraint (0.01 .<= w .<= 0.5): only ranged rows of the form lb <= expr <= ub are supported.\nwhile loading In[11], in expression starting on line 8",
     "output_type": "error",
     "traceback": [
      "LoadError: in @addNLConstraint (0.01 .<= w .<= 0.5): only ranged rows of the form lb <= expr <= ub are supported.\nwhile loading In[11], in expression starting on line 8",
      "",
      " in createJuMPModelGenFunc at C:\\Users\\Theofilos\\Documents\\RBC_Capstone\\financial-opt-tools\\src\\core/utils.jl:84",
      " in optimize at C:\\Users\\Theofilos\\Documents\\RBC_Capstone\\financial-opt-tools\\src\\core/abstractmodel.jl:70",
      " in optimize at C:\\Users\\Theofilos\\Documents\\RBC_Capstone\\financial-opt-tools\\src\\core/abstractmodel.jl:57"
     ]
    }
   ],
   "source": [
    "####################################################### \n",
    "# Example 3: Changing a Constraint's parameter values #\n",
    "#######################################################\n",
    "\n",
    "# Changing values of an entered constraint\n",
    "syms_1[\"max_thresh\"] = 0.9\n",
    "syms_1[\"min_thresh\"] = 0.2/n\n",
    "\n",
    "# refer to model definition for keyword arguments, etc.\n",
    "mvo_1 = SimpleMVO(assets_1, target_return, constraints_1; short_sale=false)\n",
    "optimize(mvo_1, syms_1)"
   ]
  },
  {
   "cell_type": "code",
   "execution_count": 10,
   "metadata": {
    "collapsed": false
   },
   "outputs": [
    {
     "ename": "LoadError",
     "evalue": "LoadError: in @addNLConstraint (0.01 .<= w .<= 0.5): only ranged rows of the form lb <= expr <= ub are supported.\nwhile loading In[10], in expression starting on line 13",
     "output_type": "error",
     "traceback": [
      "LoadError: in @addNLConstraint (0.01 .<= w .<= 0.5): only ranged rows of the form lb <= expr <= ub are supported.\nwhile loading In[10], in expression starting on line 13",
      "",
      " in createJuMPModelGenFunc at C:\\Users\\Theofilos\\Documents\\RBC_Capstone\\financial-opt-tools\\src\\core/utils.jl:84",
      " in optimize at C:\\Users\\Theofilos\\Documents\\RBC_Capstone\\financial-opt-tools\\src\\core/abstractmodel.jl:70",
      " in optimize at C:\\Users\\Theofilos\\Documents\\RBC_Capstone\\financial-opt-tools\\src\\core/abstractmodel.jl:57"
     ]
    }
   ],
   "source": [
    "####################################\n",
    "# Example 4: Deleting a Constraint #\n",
    "####################################\n",
    "\n",
    "# Removing a previously defined constraint\n",
    "delete!(constraints_1, \"constraint1\")\n",
    "delete!(syms, \"max_thresh\")\n",
    "delete!(syms, \"min_thresh\")\n",
    "\n",
    "# refer to model definition for keyword arguments, etc.\n",
    "mvo_1 = SimpleMVO(assets_1, target_return, constraints_1; short_sale=false)\n",
    "optimize(mvo_1, syms_1)"
   ]
  },
  {
   "cell_type": "code",
   "execution_count": 18,
   "metadata": {
    "collapsed": false
   },
   "outputs": [
    {
     "name": "stderr",
     "output_type": "stream",
     "text": [
      "WARNING: w[1:5] <= 0.3 is a non-linear constraint"
     ]
    },
    {
     "ename": "LoadError",
     "evalue": "LoadError: UndefVarError: n not defined\nwhile loading In[18], in expression starting on line 13",
     "output_type": "error",
     "traceback": [
      "LoadError: UndefVarError: n not defined\nwhile loading In[18], in expression starting on line 13",
      "",
      " [inlined code] from C:\\Users\\Theofilos\\.julia\\v0.4\\ReverseDiffSparse\\src\\revmode.jl:218",
      " in anonymous at C:\\Users\\Theofilos\\Documents\\RBC_Capstone\\financial-opt-tools\\src\\core/utils.jl:85",
      " in optimize at C:\\Users\\Theofilos\\Documents\\RBC_Capstone\\financial-opt-tools\\src\\core/abstractmodel.jl:71",
      " in optimize at C:\\Users\\Theofilos\\Documents\\RBC_Capstone\\financial-opt-tools\\src\\core/abstractmodel.jl:57"
     ]
    },
    {
     "name": "stderr",
     "output_type": "stream",
     "text": [
      "\n"
     ]
    }
   ],
   "source": [
    "##########################################\n",
    "# Example 5: Adding multiple Constraints #\n",
    "##########################################\n",
    "\n",
    "# Adding a multiple weight constraints\n",
    "constraints_1 = Dict(:constraint1 => :(w[1:5] <= assets_1_5_max), :constraint2 => :(w[5:n] <= assets_5_n_max))\n",
    "\n",
    "syms_1 = Dict(:assets_1_5_max => 0.3, :assets_5_n_max => 0.05)\n",
    "\n",
    "\n",
    "# refer to model definition for keyword arguments, etc.\n",
    "mvo_1 = SimpleMVO(assets_1, target_return, constraints_1; short_sale=false)\n",
    "optimize(mvo_1, syms_1)"
   ]
  },
  {
   "cell_type": "code",
   "execution_count": 16,
   "metadata": {
    "collapsed": false
   },
   "outputs": [
    {
     "ename": "LoadError",
     "evalue": "LoadError: in @addNLConstraint (0.01 .<= w .<= 0.5): only ranged rows of the form lb <= expr <= ub are supported.\nwhile loading In[16], in expression starting on line 7",
     "output_type": "error",
     "traceback": [
      "LoadError: in @addNLConstraint (0.01 .<= w .<= 0.5): only ranged rows of the form lb <= expr <= ub are supported.\nwhile loading In[16], in expression starting on line 7",
      "",
      " in createJuMPModelGenFunc at C:\\Users\\Theofilos\\Documents\\RBC_Capstone\\financial-opt-tools\\src\\core/utils.jl:84",
      " in optimize at C:\\Users\\Theofilos\\Documents\\RBC_Capstone\\financial-opt-tools\\src\\core/abstractmodel.jl:70",
      " in optimize at C:\\Users\\Theofilos\\Documents\\RBC_Capstone\\financial-opt-tools\\src\\core/abstractmodel.jl:57"
     ]
    }
   ],
   "source": [
    "#####################################\n",
    "# Example 6: Using Different Assets #\n",
    "#####################################\n",
    "\n",
    "# Using the same previously defined constraints we can run the model on a different set of assets effortlessly\n",
    "mvo_2 = SimpleMVO(assets_2, target_return, constraints_1; short_sale=false)\n",
    "optimize(mvo_2, syms_1)"
   ]
  },
  {
   "cell_type": "code",
   "execution_count": 20,
   "metadata": {
    "collapsed": false
   },
   "outputs": [
    {
     "ename": "LoadError",
     "evalue": "LoadError: in @addNLConstraint (w .<= 0.5): expected comparison operator (<=, >=, or ==).\nwhile loading In[20], in expression starting on line 13",
     "output_type": "error",
     "traceback": [
      "LoadError: in @addNLConstraint (w .<= 0.5): expected comparison operator (<=, >=, or ==).\nwhile loading In[20], in expression starting on line 13",
      "",
      " in createJuMPModelGenFunc at C:\\Users\\Theofilos\\Documents\\RBC_Capstone\\financial-opt-tools\\src\\core/utils.jl:84",
      " in optimize at C:\\Users\\Theofilos\\Documents\\RBC_Capstone\\financial-opt-tools\\src\\core/abstractmodel.jl:70",
      " in optimize at C:\\Users\\Theofilos\\Documents\\RBC_Capstone\\financial-opt-tools\\src\\core/abstractmodel.jl:57"
     ]
    }
   ],
   "source": [
    "##################################################\n",
    "# Example 6: Using Different Sets of Constraints #\n",
    "##################################################\n",
    "\n",
    "# At this point we have defined a set of constraints called constraints\n",
    "# JuPOT allows the cool feature of having multiple sets be seamlessly \n",
    "\n",
    "constraints_2 = Dict(:constraint => :(w .<= max_weight))\n",
    "syms_2 = Dict(:max_weight => 0.5)\n",
    "\n",
    "# Using Constraints set # 2 on asset set  # 2\n",
    "mvo_2 = SimpleMVO(assets_2, target_return, constraints_2; short_sale=false)\n",
    "optimize(mvo_2, syms_2)\n",
    "\n",
    "# Forgot what constraints and symbols were defined for initial constraints? No Problem!\n",
    "constraints_1 # Prints the constraints\n",
    "sym_1 # prints the symboles\n",
    "\n",
    "# Using Constraints set # 1 on asset set  # 2\n",
    "mvo_2 = SimpleMVO(assets_2, target_return, constraints_1; short_sale=false)\n",
    "optimize(mvo_2, syms_1)\n",
    "\n"
   ]
  },
  {
   "cell_type": "code",
   "execution_count": 21,
   "metadata": {
    "collapsed": false
   },
   "outputs": [
    {
     "data": {
      "text/plain": [
       "JuPOT.RobustMVO{Float64,ASCIIString}(:Min,[:(w[1:10])],:(dot(w,10x10 Array{Float64,2}:\n",
       " 12.3644     3.52387  -0.163724   1.09899  …   0.19095    2.64892   -0.115527\n",
       "  3.52387   10.157    -4.26591    1.96996      2.86068    3.1455    -2.50218 \n",
       " -0.163724  -4.26591  10.469      1.50287     -5.74508   -0.695578   5.94238 \n",
       "  1.09899    1.96996   1.50287   10.2345      -1.38396    1.09894    1.58229 \n",
       " -2.58091   -6.92069   0.49264   -2.51137     -3.48893   -2.07226    1.93537 \n",
       "  0.77658    1.35112   0.265068   1.45923  …   1.65674    4.08686    3.444   \n",
       "  3.13629    4.36912   1.52137    2.67053      3.16866   -1.21913    0.777374\n",
       "  0.19095    2.86068  -5.74508   -1.38396     11.5766     0.49449   -0.801254\n",
       "  2.64892    3.1455   -0.695578   1.09894      0.49449   12.0134     3.49904 \n",
       " -0.115527  -2.50218   5.94238    1.58229     -0.801254   3.49904   13.8858   * w)),[:(dot([0.10716789982015662,0.3881088656876732,0.4710476165186779,0.6274702440071767,0.3236928628704714,0.673411583834904,0.7596084982334024,0.17653447622928842,0.24894697697145762,0.31931727930399934],w) ≥ 0.15),:(dot(ones(10),w) == 1),:(dot(w,10x10 Array{Float64,2}:\n",
       " 12.3644   0.0     0.0     0.0     …  0.0       0.0      0.0      0.0   \n",
       "  0.0     10.157   0.0     0.0        0.0       0.0      0.0      0.0   \n",
       "  0.0      0.0    10.469   0.0        0.0       0.0      0.0      0.0   \n",
       "  0.0      0.0     0.0    10.2345     0.0       0.0      0.0      0.0   \n",
       "  0.0      0.0     0.0     0.0        0.0       0.0      0.0      0.0   \n",
       "  0.0      0.0     0.0     0.0     …  0.0       0.0      0.0      0.0   \n",
       "  0.0      0.0     0.0     0.0        9.66011   0.0      0.0      0.0   \n",
       "  0.0      0.0     0.0     0.0        0.0      11.5766   0.0      0.0   \n",
       "  0.0      0.0     0.0     0.0        0.0       0.0     12.0134   0.0   \n",
       "  0.0      0.0     0.0     0.0        0.0       0.0      0.0     13.8858 * w) ≤ 1.0783509483873888)],Dict{Symbol,Expr}(),nyz    0.10716789982015662 \n",
       "kw5    0.3881088656876732 \n",
       "mDA    0.4710476165186779 \n",
       "LdX    0.6274702440071767 \n",
       "oHo    0.3236928628704714 \n",
       "jCv    0.673411583834904 \n",
       "lDV    0.7596084982334024 \n",
       "oLj    0.17653447622928842 \n",
       "ilP    0.24894697697145762 \n",
       "GtK    0.31931727930399934 \n",
       ",NaN,[NaN,NaN,NaN,NaN,NaN,NaN,NaN,NaN,NaN,NaN],:Unsolved)"
      ]
     },
     "execution_count": 21,
     "metadata": {},
     "output_type": "execute_result"
    }
   ],
   "source": [
    "######################################################\n",
    "################### Robust MVO #######################\n",
    "######################################################\n",
    "\n",
    "# refer to model definition for keyword arguments, etc\n",
    "# If no uncertainty matrix is entered the model defaults\n",
    "# to the ellipse whose axes are proportional to the \n",
    "# individual variances of each asset\n",
    "rmvo_1 = RobustMVO(assets_1, target_return; short_sale=true)\n",
    "optimize(rmvo, syms_1)"
   ]
  },
  {
   "cell_type": "code",
   "execution_count": 8,
   "metadata": {
    "collapsed": false
   },
   "outputs": [
    {
     "data": {
      "text/plain": [
       "5-element Array{Float64,1}:\n",
       " 0.350672 \n",
       " 0.148301 \n",
       " 0.218071 \n",
       " 0.204115 \n",
       " 0.0788405"
      ]
     },
     "execution_count": 8,
     "metadata": {},
     "output_type": "execute_result"
    }
   ],
   "source": []
  },
  {
   "cell_type": "code",
   "execution_count": null,
   "metadata": {
    "collapsed": true
   },
   "outputs": [],
   "source": []
  }
 ],
 "metadata": {
  "kernelspec": {
   "display_name": "Julia 0.4.3",
   "language": "julia",
   "name": "julia-0.4"
  },
  "language_info": {
   "file_extension": ".jl",
   "mimetype": "application/julia",
   "name": "julia",
   "version": "0.4.3"
  }
 },
 "nbformat": 4,
 "nbformat_minor": 0
}
