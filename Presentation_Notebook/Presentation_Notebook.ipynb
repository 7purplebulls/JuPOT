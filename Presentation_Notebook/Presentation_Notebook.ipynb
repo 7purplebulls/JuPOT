{
 "cells": [
  {
   "cell_type": "code",
   "execution_count": 5,
   "metadata": {
    "collapsed": false
   },
   "outputs": [
    {
     "data": {
      "text/plain": [
       "lWi    0.9587556957789065 \n",
       "vPL    0.30998229541038613 \n",
       "Vnk    0.612647817648583 \n",
       "Je3    0.8533396304343088 \n",
       "NNA    0.1162037782343075 \n",
       "Uou    0.346865858403705 \n"
      ]
     },
     "execution_count": 5,
     "metadata": {},
     "output_type": "execute_result"
    }
   ],
   "source": [
    "push!(LOAD_PATH, \"$(homedir())/desktop/financial-opt-tools/src\")\n",
    "\n",
    "using JuPOT\n",
    "#set number of assets\n",
    "n = 6\n",
    "    ret = rand(n)\n",
    "    cov = rand(n, n)\n",
    "    cov = cov'cov+eye(n)\n",
    "    names = [randstring(3) for i in 1:n]\n",
    "#initialize model\n",
    "assets = AssetsCollection(names, ret, cov)"
   ]
  },
  {
   "cell_type": "code",
   "execution_count": 11,
   "metadata": {
    "collapsed": false
   },
   "outputs": [
    {
     "data": {
      "text/plain": [
       "Dict{Symbol,Float64} with 2 entries:\n",
       "  :max_thresh => 0.5\n",
       "  :min_thresh => 0.2"
      ]
     },
     "execution_count": 11,
     "metadata": {},
     "output_type": "execute_result"
    }
   ],
   "source": [
    "#set constraints\n",
    "constraints = Dict(:constraint1 => :(w[1] + w[2] <= max_thresh), \n",
    ":constraint2 => :(w[3] + w[4] >= min_thresh))\n",
    "#\n",
    "syms = Dict(:max_thresh => 0.5, :min_thresh => 0.2)"
   ]
  },
  {
   "cell_type": "code",
   "execution_count": 14,
   "metadata": {
    "collapsed": false
   },
   "outputs": [
    {
     "data": {
      "text/plain": [
       "JuPOT.SimpleMVO{Float64,ASCIIString}(:Min,[:(w[1:6] >= 0)],:(dot(w,6x6 Array{Float64,2}:\n",
       " 2.6005   1.01342   1.14893   1.03314   1.35403   1.58239\n",
       " 1.01342  2.12572   1.02459   0.871334  0.992903  1.10018\n",
       " 1.14893  1.02459   2.74522   0.755304  1.28544   1.43771\n",
       " 1.03314  0.871334  0.755304  1.9572    1.01674   1.09173\n",
       " 1.35403  0.992903  1.28544   1.01674   2.77902   1.52554\n",
       " 1.58239  1.10018   1.43771   1.09173   1.52554   2.79308 * w)),[:(dot([0.9587556957789065,0.30998229541038613,0.612647817648583,0.8533396304343088,0.1162037782343075,0.346865858403705],w) ≥ 0.2),:(dot(ones(6),w) == 1)],Dict{Symbol,Expr}(),lWi    0.9587556957789065 \n",
       "vPL    0.30998229541038613 \n",
       "Vnk    0.612647817648583 \n",
       "Je3    0.8533396304343088 \n",
       "NNA    0.1162037782343075 \n",
       "Uou    0.346865858403705 \n",
       ",NaN,[NaN,NaN,NaN,NaN,NaN,NaN],:Unsolved)"
      ]
     },
     "execution_count": 14,
     "metadata": {},
     "output_type": "execute_result"
    }
   ],
   "source": [
    "#initialize model\n",
    "mvo = SimpleMVO(assets, 0.2; short_sale=false)"
   ]
  },
  {
   "cell_type": "code",
   "execution_count": 16,
   "metadata": {
    "collapsed": false
   },
   "outputs": [
    {
     "data": {
      "text/plain": [
       "1.2627285919942979"
      ]
     },
     "execution_count": 16,
     "metadata": {},
     "output_type": "execute_result"
    }
   ],
   "source": [
    "#solve model\n",
    "JuPOT.optimize(mvo,syms)"
   ]
  },
  {
   "cell_type": "code",
   "execution_count": 20,
   "metadata": {
    "collapsed": false
   },
   "outputs": [
    {
     "data": {
      "text/plain": [
       "6-element Array{Float64,1}:\n",
       " 0.115591  \n",
       " 0.267896  \n",
       " 0.168372  \n",
       " 0.347143  \n",
       " 0.0931472 \n",
       " 0.00785055"
      ]
     },
     "execution_count": 20,
     "metadata": {},
     "output_type": "execute_result"
    }
   ],
   "source": [
    "#get weights\n",
    "mvo.weights"
   ]
  },
  {
   "cell_type": "code",
   "execution_count": 21,
   "metadata": {
    "collapsed": false
   },
   "outputs": [
    {
     "data": {
      "text/plain": [
       "1.2627285919942979"
      ]
     },
     "execution_count": 21,
     "metadata": {},
     "output_type": "execute_result"
    }
   ],
   "source": [
    "#get objective value function\n",
    "mvo.objVal"
   ]
  },
  {
   "cell_type": "code",
   "execution_count": 26,
   "metadata": {
    "collapsed": false
   },
   "outputs": [
    {
     "data": {
      "text/plain": [
       "Dict{Symbol,Float64} with 4 entries:\n",
       "  :thresh_2   => 0.2\n",
       "  :max_thresh => 0.5\n",
       "  :thresh_1   => 0.5\n",
       "  :min_thresh => 0.2"
      ]
     },
     "execution_count": 26,
     "metadata": {},
     "output_type": "execute_result"
    }
   ],
   "source": [
    "constraints1 = Dict(:constraint3 => :(w[3] + w[5] <= thresh_1), \n",
    ":constraint4 => :(w[2] + w[1] >= thresh_2))\n",
    "syms_1 = Dict(:thresh_1 => 0.5, :thresh_2=> 0.2)\n",
    "\n",
    "constraints = merge(constraints, constraints1)\n",
    "syms = merge(syms,syms_1)\n"
   ]
  },
  {
   "cell_type": "code",
   "execution_count": 28,
   "metadata": {
    "collapsed": false
   },
   "outputs": [
    {
     "data": {
      "text/plain": [
       "1.2627285919942979"
      ]
     },
     "execution_count": 28,
     "metadata": {},
     "output_type": "execute_result"
    }
   ],
   "source": [
    "mvo = SimpleMVO(assets, 0.2; short_sale=false)\n",
    "JuPOT.optimize(mvo,syms)"
   ]
  },
  {
   "cell_type": "code",
   "execution_count": 29,
   "metadata": {
    "collapsed": false
   },
   "outputs": [
    {
     "data": {
      "text/plain": [
       "JuPOT.RobustMVO{Float64,ASCIIString}(:Min,[:(w[1:6])],:(dot(w,6x6 Array{Float64,2}:\n",
       " 2.6005   1.01342   1.14893   1.03314   1.35403   1.58239\n",
       " 1.01342  2.12572   1.02459   0.871334  0.992903  1.10018\n",
       " 1.14893  1.02459   2.74522   0.755304  1.28544   1.43771\n",
       " 1.03314  0.871334  0.755304  1.9572    1.01674   1.09173\n",
       " 1.35403  0.992903  1.28544   1.01674   2.77902   1.52554\n",
       " 1.58239  1.10018   1.43771   1.09173   1.52554   2.79308 * w)),[:(dot([0.9587556957789065,0.30998229541038613,0.612647817648583,0.8533396304343088,0.1162037782343075,0.346865858403705],w) ≥ 0.3),:(dot(ones(6),w) == 1),:(dot(w,6x6 Array{Float64,2}:\n",
       " 2.6005  0.0      0.0      0.0     0.0      0.0    \n",
       " 0.0     2.12572  0.0      0.0     0.0      0.0    \n",
       " 0.0     0.0      2.74522  0.0     0.0      0.0    \n",
       " 0.0     0.0      0.0      1.9572  0.0      0.0    \n",
       " 0.0     0.0      0.0      0.0     2.77902  0.0    \n",
       " 0.0     0.0      0.0      0.0     0.0      2.79308 * w) ≤ 0.4166874378992047)],Dict{Symbol,Expr}(),lWi    0.9587556957789065 \n",
       "vPL    0.30998229541038613 \n",
       "Vnk    0.612647817648583 \n",
       "Je3    0.8533396304343088 \n",
       "NNA    0.1162037782343075 \n",
       "Uou    0.346865858403705 \n",
       ",NaN,[NaN,NaN,NaN,NaN,NaN,NaN],:Unsolved)"
      ]
     },
     "execution_count": 29,
     "metadata": {},
     "output_type": "execute_result"
    }
   ],
   "source": [
    "rmvo = RobustMVO(assets, 0.3; short_sale=true)"
   ]
  },
  {
   "cell_type": "code",
   "execution_count": 30,
   "metadata": {
    "collapsed": false
   },
   "outputs": [
    {
     "data": {
      "text/plain": [
       "1.3003463495796637"
      ]
     },
     "execution_count": 30,
     "metadata": {},
     "output_type": "execute_result"
    }
   ],
   "source": [
    "optimize(rmvo, syms)"
   ]
  },
  {
   "cell_type": "code",
   "execution_count": null,
   "metadata": {
    "collapsed": true
   },
   "outputs": [],
   "source": []
  }
 ],
 "metadata": {
  "kernelspec": {
   "display_name": "Julia 0.4.1",
   "language": "julia",
   "name": "julia-0.4"
  },
  "language_info": {
   "file_extension": ".jl",
   "mimetype": "application/julia",
   "name": "julia",
   "version": "0.4.1"
  }
 },
 "nbformat": 4,
 "nbformat_minor": 0
}
