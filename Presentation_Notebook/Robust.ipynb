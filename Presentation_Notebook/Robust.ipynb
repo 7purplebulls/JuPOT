{
 "cells": [
  {
   "cell_type": "code",
   "execution_count": 1,
   "metadata": {
    "collapsed": false,
    "scrolled": true
   },
   "outputs": [
    {
     "data": {
      "text/plain": [
       "lAC    0.057289949645766614 \n",
       "cp3    0.28633859262804484 \n",
       "VyW    0.835271554458848 \n",
       "rlz    0.30135244595898136 \n",
       "Ub9    0.30488385001815255 \n"
      ]
     },
     "execution_count": 1,
     "metadata": {},
     "output_type": "execute_result"
    }
   ],
   "source": [
    "# Update this accordingly!\n",
    "push!(LOAD_PATH, \"$(homedir())/desktop/financial-opt-tools/src\")\n",
    "\n",
    "using JuPOT\n",
    "\n",
    "# Generate synthetic data\n",
    "n = 5\n",
    "ret = rand(n)\n",
    "cov = let\n",
    "    S = randn(n, n)\n",
    "    S'S + eye(n)\n",
    "end\n",
    "names = [randstring(3) for i in 1:n]\n",
    "\n",
    "assets = AssetsCollection(names, ret, cov)"
   ]
  },
  {
   "cell_type": "code",
   "execution_count": 2,
   "metadata": {
    "collapsed": false
   },
   "outputs": [
    {
     "data": {
      "text/plain": [
       "Dict{Symbol,Float64} with 2 entries:\n",
       "  :max_thresh => 0.5\n",
       "  :min_thresh => 0.02"
      ]
     },
     "execution_count": 2,
     "metadata": {},
     "output_type": "execute_result"
    }
   ],
   "source": [
    "constraints = Dict(:constraint1 => :(w[1]^3 + w[2] <= max_thresh), \n",
    ":constraint2 => :(w[3] + w[4] >= min_thresh))\n",
    "\n",
    "syms = Dict(:max_thresh => 0.5, :min_thresh => 0.1/n)"
   ]
  },
  {
   "cell_type": "code",
   "execution_count": 3,
   "metadata": {
    "collapsed": false
   },
   "outputs": [
    {
     "data": {
      "text/plain": [
       "JuPOT.SimpleMVO{Float64,ASCIIString}(:Min,[:(w[1:5] >= 0)],:(dot(w,5x5 Array{Float64,2}:\n",
       "  3.48635     0.44009  -1.18651   0.0603451   1.34899 \n",
       "  0.44009     6.28645  -2.51147  -3.52116     3.68868 \n",
       " -1.18651    -2.51147   7.15121   2.728      -3.55735 \n",
       "  0.0603451  -3.52116   2.728     9.86745    -0.490893\n",
       "  1.34899     3.68868  -3.55735  -0.490893    5.70735  * w)),[:(dot([0.057289949645766614,0.28633859262804484,0.835271554458848,0.30135244595898136,0.30488385001815255],w) ≥ 0.2),:(dot(ones(5),w) == 1)],Dict{Symbol,Expr}(),lAC    0.057289949645766614 \n",
       "cp3    0.28633859262804484 \n",
       "VyW    0.835271554458848 \n",
       "rlz    0.30135244595898136 \n",
       "Ub9    0.30488385001815255 \n",
       ",NaN,[NaN,NaN,NaN,NaN,NaN],:Unsolved)"
      ]
     },
     "execution_count": 3,
     "metadata": {},
     "output_type": "execute_result"
    }
   ],
   "source": [
    "# refer to model definition for keyword arguments, etc.\n",
    "mvo = SimpleMVO(assets, 0.2; short_sale=false)"
   ]
  },
  {
   "cell_type": "raw",
   "metadata": {
    "collapsed": false
   },
   "source": [
    "optimize(mvo, syms)"
   ]
  },
  {
   "cell_type": "code",
   "execution_count": 5,
   "metadata": {
    "collapsed": false
   },
   "outputs": [
    {
     "data": {
      "text/plain": [
       "JuPOT.RobustMVO{Float64,ASCIIString}(:Min,[:(w[1:5])],:(dot(w,5x5 Array{Float64,2}:\n",
       "  3.16526   -0.119618   1.53921    3.7269    -0.257499 \n",
       " -0.119618   6.30025   -1.35721    1.58546    1.47919  \n",
       "  1.53921   -1.35721    3.15561    2.11611   -0.0480906\n",
       "  3.7269     1.58546    2.11611    8.50691    0.659778 \n",
       " -0.257499   1.47919   -0.0480906  0.659778   3.12668   * w)),[:(dot([0.03722361082909953,0.9815905593345755,0.06328277294361118,0.30308713322401215,0.022084631681936084],w) ≥ 0.3),:(dot(ones(5),w) == 1),:(dot(w,5x5 Array{Float64,2}:\n",
       " 3.16526  0.0      0.0      0.0      0.0    \n",
       " 0.0      6.30025  0.0      0.0      0.0    \n",
       " 0.0      0.0      3.15561  0.0      0.0    \n",
       " 0.0      0.0      0.0      8.50691  0.0    \n",
       " 0.0      0.0      0.0      0.0      3.12668 * w) ≤ 0.9701882549047559)],Dict{Symbol,Expr}(),v9h    0.03722361082909953 \n",
       "naa    0.9815905593345755 \n",
       "MZi    0.06328277294361118 \n",
       "Ir9    0.30308713322401215 \n",
       "QDN    0.022084631681936084 \n",
       ",NaN,[NaN,NaN,NaN,NaN,NaN],:Unsolved)"
      ]
     },
     "execution_count": 5,
     "metadata": {},
     "output_type": "execute_result"
    }
   ],
   "source": [
    "# refer to model definition for keyword arguments, etc.\n",
    "rmvo = RobustMVO(assets, 0.3; short_sale=true)"
   ]
  },
  {
   "cell_type": "code",
   "execution_count": 6,
   "metadata": {
    "collapsed": false
   },
   "outputs": [
    {
     "data": {
      "text/plain": [
       "5-element Array{Float64,1}:\n",
       " 0.207584 \n",
       " 0.26387  \n",
       " 0.270347 \n",
       " 0.0371898\n",
       " 0.221009 "
      ]
     },
     "execution_count": 6,
     "metadata": {},
     "output_type": "execute_result"
    }
   ],
   "source": [
    "optimize(rmvo, syms,)"
   ]
  },
  {
   "cell_type": "code",
   "execution_count": null,
   "metadata": {
    "collapsed": true
   },
   "outputs": [],
   "source": []
  }
 ],
 "metadata": {
  "kernelspec": {
   "display_name": "Julia 0.4.1",
   "language": "julia",
   "name": "julia-0.4"
  },
  "language_info": {
   "file_extension": ".jl",
   "mimetype": "application/julia",
   "name": "julia",
   "version": "0.4.1"
  }
 },
 "nbformat": 4,
 "nbformat_minor": 0
}
