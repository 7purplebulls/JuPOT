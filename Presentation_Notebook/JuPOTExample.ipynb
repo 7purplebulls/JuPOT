{
 "cells": [
  {
   "cell_type": "code",
   "execution_count": 1,
   "metadata": {
    "collapsed": false,
    "scrolled": false
   },
   "outputs": [
    {
     "data": {
      "text/plain": [
       "JuPOT.SimpleMVO(:Min,[:(w[1:6] >= 0)],:(dot(w,6x6 Array{Float64,2}:\n",
       " 2.24129   0.896106  1.70919  0.655444  1.65417  1.41084\n",
       " 0.896106  3.45533   2.06862  1.48983   1.94807  1.60095\n",
       " 1.70919   2.06862   4.02432  1.48448   2.74953  2.15375\n",
       " 0.655444  1.48983   1.48448  2.29726   1.15019  1.05578\n",
       " 1.65417   1.94807   2.74953  1.15019   3.96299  2.08917\n",
       " 1.41084   1.60095   2.15375  1.05578   2.08917  3.03218 * w)),[:(dot([0.809000061681205,0.7215026766710948,0.1540951383252831,0.2538119259037144,0.897715347406385,0.3782022460885215],w) ≥ 0.2),:(dot(ones(6),w) == 1)],Dict(:constraint1=>:(w[1] + w[2] <= max_thresh),:constraint2=>:(w[3] + w[4] >= min_thresh)),JuPOT.AssetsCollection{Float64,ASCIIString}(ASCIIString[\"a\",\"b\",\"c\",\"d\",\"e\",\"f\"],[0.809000061681205,0.7215026766710948,0.1540951383252831,0.2538119259037144,0.897715347406385,0.3782022460885215],6x6 Array{Float64,2}:\n",
       " 2.24129   0.896106  1.70919  0.655444  1.65417  1.41084\n",
       " 0.896106  3.45533   2.06862  1.48983   1.94807  1.60095\n",
       " 1.70919   2.06862   4.02432  1.48448   2.74953  2.15375\n",
       " 0.655444  1.48983   1.48448  2.29726   1.15019  1.05578\n",
       " 1.65417   1.94807   2.74953  1.15019   3.96299  2.08917\n",
       " 1.41084   1.60095   2.15375  1.05578   2.08917  3.03218),#undef,#undef,#undef)"
      ]
     },
     "execution_count": 1,
     "metadata": {},
     "output_type": "execute_result"
    }
   ],
   "source": [
    "push!(LOAD_PATH, \"$(homedir())/desktop/financial-opt-tools/src\")\n",
    "\n",
    "\n",
    "using JuPOT\n",
    "\n",
    "\n",
    "ret = rand(6)\n",
    "cov = rand(6, 6)\n",
    "cov = cov'cov+eye(6)\n",
    "names = [\"a\",\"b\",\"c\",\"d\",\"e\",\"f\"]\n",
    "\n",
    "assets = AssetsCollection(names, ret, cov)\n",
    "\n",
    "constraints = Dict(:constraint1 => :(w[1] + w[2] <= max_thresh), \n",
    ":constraint2 => :(w[3] + w[4] >= min_thresh))\n",
    "syms = Dict(:max_thresh => 0.5, :min_thresh => 0.2)\n",
    "m = SimpleMVO(assets, 0.2, constraints, false)\n",
    "       "
   ]
  },
  {
   "cell_type": "code",
   "execution_count": 5,
   "metadata": {
    "collapsed": false
   },
   "outputs": [
    {
     "data": {
      "text/plain": [
       "1.4195141211606193"
      ]
     },
     "execution_count": 5,
     "metadata": {},
     "output_type": "execute_result"
    }
   ],
   "source": [
    "JuPOT.optimize(m,syms)"
   ]
  },
  {
   "cell_type": "code",
   "execution_count": null,
   "metadata": {
    "collapsed": true
   },
   "outputs": [],
   "source": []
  }
 ],
 "metadata": {
  "kernelspec": {
   "display_name": "Julia 0.4.1",
   "language": "julia",
   "name": "julia-0.4"
  },
  "language_info": {
   "file_extension": ".jl",
   "mimetype": "application/julia",
   "name": "julia",
   "version": "0.4.1"
  }
 },
 "nbformat": 4,
 "nbformat_minor": 0
}
