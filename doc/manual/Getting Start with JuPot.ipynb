{
 "cells": [
  {
   "cell_type": "markdown",
   "metadata": {},
   "source": [
    "## Importing JuPot\n",
    "\n",
    "<u><b>1. Setting the Path</u></b>\n",
    "\n",
    "JuPot has not yet been approved by the Julia community as an official package and therefore requires an extra step when \n",
    "importing the package into a new environment. The first step requires a command that adds the path of the JuPot package into the current environment shown below."
   ]
  },
  {
   "cell_type": "code",
   "execution_count": 44,
   "metadata": {
    "collapsed": false,
    "scrolled": true
   },
   "outputs": [],
   "source": [
    "# For Windows Users\n",
    "push!(LOAD_PATH, \"$(homedir())/Documents/RBC_Capstone/financial-opt-tools/src\")\n",
    "\n",
    "# For Mac Users\n",
    "# push!(LOAD_PATH, \"$(homedir())/desktop/financial-opt-tools/src\")\n",
    "print(\"\") # Dont mind these print statements"
   ]
  },
  {
   "cell_type": "markdown",
   "metadata": {},
   "source": [
    "<u><b>2. Importing the Package</u></b>\n",
    "\n",
    "Once the path has been set correctly you can now test to see if you can import JuPot using the following Julia Command,"
   ]
  },
  {
   "cell_type": "code",
   "execution_count": 24,
   "metadata": {
    "collapsed": false
   },
   "outputs": [],
   "source": [
    "using JuPOT"
   ]
  },
  {
   "cell_type": "markdown",
   "metadata": {},
   "source": [
    "## Simple MVO Financial Modeling Example\n",
    "\n",
    "JuPOT was developed to streamline Financial Portfolio Optimization. One of the most common models used in the industry is the simple MVO model. The rest of this tutorial will show an MVO example to cover the following JuPOT features:\n",
    "\n",
    "* Defining an Asset Object\n",
    "* Creating a Model Object\n",
    "* Running the Optimization\n",
    "* Creation/Addition/Deletion of Model Constraints\n",
    "* Changing a Constraint's Paramters\n"
   ]
  },
  {
   "cell_type": "markdown",
   "metadata": {},
   "source": [
    "<u><b> 1. Defining an Asset Object </u></b>\n",
    "\n",
    "With the JuPOT package imported in our current environment we are now in the position to create an Asset Object. The Asset object is a software object that will contain all the necessary information required for the assets that are to be using during the optimization process. For the simple MVO model the Asset data structure requires the following parameters:\n",
    "* A names vector (ie a list of labels for each of the assets)\n",
    "* A returns matrix (ie a matrix that contains the expected returns of the assets)\n",
    "* A covariance matrix (ie a matrix that contains the covariances of all the assets)\n",
    "\n",
    "In this tutorial we will generate our own random financial data."
   ]
  },
  {
   "cell_type": "code",
   "execution_count": 41,
   "metadata": {
    "collapsed": false
   },
   "outputs": [],
   "source": [
    "n = 10 # No. Of Assets\n",
    "returns = rand(n) # Returns a matrix of size(n) with entries between 0-1s\n",
    "covariance = let # This part generates a covariance matrix for the returns\n",
    "    S = randn(n, n)\n",
    "    S'S + eye(n)\n",
    "end\n",
    "\n",
    "tickers = [randstring(3) for i in 1:n] # List of asset names\n",
    "print(\"\")"
   ]
  },
  {
   "cell_type": "markdown",
   "metadata": {},
   "source": [
    "Now that we have our asset list, expected returns, and covariance we can now define our Asset Object."
   ]
  },
  {
   "cell_type": "code",
   "execution_count": 42,
   "metadata": {
    "collapsed": false
   },
   "outputs": [],
   "source": [
    "# Assets data structure containing, names, expected returns, covarariance\n",
    "assets = AssetsCollection(tickers, returns, covariance)\n",
    "print(\"\")"
   ]
  },
  {
   "cell_type": "markdown",
   "metadata": {},
   "source": [
    "One neat feature of JuPOT is the fact that you can defined multiple sets of assets at the same time! This feature exists to allow easy swapping of different asset sets when defining a model object. The next part of the tutorial will discuss how to define and optimize a model object."
   ]
  },
  {
   "cell_type": "markdown",
   "metadata": {},
   "source": [
    "<u><b>2. Defining a Model Object</u></b>\n",
    "\n",
    "In this example we are running a simple MVO model on our set of assets. In order to set up the MVO object we call the function \"SimpleMVO\". The built in MVO function set up the following objective function.\n",
    "\n",
    "\\begin{align}\n",
    "&\\text{minimize} && w^\\top\\Sigma w \\\\\n",
    "&\\text{subject to} && \\mu^\\top w\\geq r_{\\min} \\\\\n",
    "&       && \\mathbf{1}^\\top w = 1 \\\\\n",
    "&       && w \\succeq 0 \\\\\n",
    "&       && \\sum_{i=1}^{\\infty}{w_i} \\succeq 0 \\\\\n",
    "\\end{align}"
   ]
  },
  {
   "cell_type": "code",
   "execution_count": 45,
   "metadata": {
    "collapsed": false
   },
   "outputs": [],
   "source": [
    "target_return = 0.2\n",
    "mvo = SimpleMVO(assets, target_return; short_sale=false)\n",
    "print(\"\")"
   ]
  },
  {
   "cell_type": "markdown",
   "metadata": {},
   "source": [
    "We now have created a simple MVO model object called \"mvo\". In order to run the optimization we call the \"optimize\" function, passing the MVO object as a parameter. The printed output represents the optimized weights for the defined assets given their expected returns and covariances. "
   ]
  },
  {
   "cell_type": "code",
   "execution_count": 36,
   "metadata": {
    "collapsed": false
   },
   "outputs": [
    {
     "data": {
      "text/plain": [
       "(0.6770945295038107,[0.23139516562088264,5.639370208919988e-11,0.2268200385109376,0.08008854839530366,0.07396216415563542,0.08548711025588242,0.11481169593806027,0.09054634792972655,0.09688892912978656,7.389778756327122e-12])"
      ]
     },
     "execution_count": 36,
     "metadata": {},
     "output_type": "execute_result"
    }
   ],
   "source": [
    "optimize(mvo)"
   ]
  },
  {
   "cell_type": "code",
   "execution_count": null,
   "metadata": {
    "collapsed": true
   },
   "outputs": [],
   "source": []
  }
 ],
 "metadata": {
  "kernelspec": {
   "display_name": "Julia 0.4.3",
   "language": "julia",
   "name": "julia-0.4"
  },
  "language_info": {
   "file_extension": ".jl",
   "mimetype": "application/julia",
   "name": "julia",
   "version": "0.4.3"
  }
 },
 "nbformat": 4,
 "nbformat_minor": 0
}
