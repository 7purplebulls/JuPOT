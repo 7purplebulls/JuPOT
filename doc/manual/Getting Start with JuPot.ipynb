{
 "cells": [
  {
   "cell_type": "markdown",
   "metadata": {},
   "source": [
    "## Importing JuPot\n",
    "\n",
    "<u><b>1. Installing Solver</u></b>\n",
    "\n",
    "In order for this tutorial to work without issues you will need to have a optimization solver installed for your Julia installation. If you have <b>not</b> installed a solver for your Julia installation you can install one by first opening a Julia terminal and then typing the following command which will add the CLP solver:\n",
    "\n",
    "julia> Pkg.add(\"Clp\")\n"
   ]
  },
  {
   "cell_type": "markdown",
   "metadata": {},
   "source": [
    "<u><b>2. Setting the Path</u></b>\n",
    "\n",
    "JuPot has not yet been approved by the Julia community as an official package and therefore requires an extra step when \n",
    "importing the package into a new environment. The first step requires a command that adds the path of the JuPot package into the current environment shown below."
   ]
  },
  {
   "cell_type": "code",
   "execution_count": 44,
   "metadata": {
    "collapsed": false,
    "scrolled": true
   },
   "outputs": [],
   "source": [
    "# For Windows Users\n",
    "push!(LOAD_PATH, \"$(homedir())/Documents/RBC_Capstone/financial-opt-tools/src\")\n",
    "\n",
    "# For Mac Users\n",
    "# push!(LOAD_PATH, \"$(homedir())/desktop/financial-opt-tools/src\")\n",
    "print(\"\") # Dont mind these print statements"
   ]
  },
  {
   "cell_type": "markdown",
   "metadata": {},
   "source": [
    "<u><b>3. Importing the Package</u></b>\n",
    "\n",
    "Once the path has been set correctly you can now test to see if you can import JuPot using the following Julia Command,"
   ]
  },
  {
   "cell_type": "code",
   "execution_count": 24,
   "metadata": {
    "collapsed": false
   },
   "outputs": [],
   "source": [
    "using JuPOT"
   ]
  },
  {
   "cell_type": "markdown",
   "metadata": {},
   "source": [
    "## Simple MVO Financial Modeling Example\n",
    "\n",
    "JuPOT was developed to streamline Financial Portfolio Optimization. One of the most common models used in the industry is the simple MVO model. The rest of this tutorial will show an MVO example to cover the following JuPOT features:\n",
    "\n",
    "* Defining an Asset Object\n",
    "* Creating a Model Object\n",
    "* Running the Optimization\n",
    "* Creation/Addition/Deletion of Model Constraints\n",
    "* Changing a Constraint's Paramters\n"
   ]
  },
  {
   "cell_type": "markdown",
   "metadata": {},
   "source": [
    "<u><b> 1. Defining an Asset Object </u></b>\n",
    "\n",
    "With the JuPOT package imported in our current environment we are now in the position to create an Asset Object. The Asset object is a software object that will contain all the necessary information required for the assets that are to be using during the optimization process. For the simple MVO model the Asset data structure requires the following parameters:\n",
    "* A names vector (ie a list of labels for each of the assets)\n",
    "* A returns matrix (ie a matrix that contains the expected returns of the assets)\n",
    "* A covariance matrix (ie a matrix that contains the covariances of all the assets)\n",
    "\n",
    "In this tutorial we will generate our own random financial data."
   ]
  },
  {
   "cell_type": "code",
   "execution_count": 41,
   "metadata": {
    "collapsed": false
   },
   "outputs": [],
   "source": [
    "n = 10 # No. Of Assets\n",
    "returns = rand(n) # Returns a matrix of size(n) with entries between 0-1s\n",
    "covariance = let # This part generates a covariance matrix for the returns\n",
    "    S = randn(n, n)\n",
    "    S'S + eye(n)\n",
    "end\n",
    "\n",
    "tickers = [randstring(3) for i in 1:n] # List of asset names\n",
    "print(\"\")"
   ]
  },
  {
   "cell_type": "markdown",
   "metadata": {},
   "source": [
    "Now that we have our asset list, expected returns, and covariance we can now define our Asset Object."
   ]
  },
  {
   "cell_type": "code",
   "execution_count": 42,
   "metadata": {
    "collapsed": false
   },
   "outputs": [],
   "source": [
    "# Assets data structure containing, names, expected returns, covarariance\n",
    "assets = AssetsCollection(tickers, returns, covariance)\n",
    "print(\"\")"
   ]
  },
  {
   "cell_type": "markdown",
   "metadata": {},
   "source": [
    "One neat feature of JuPOT is the fact that you can defined multiple sets of assets at the same time! This feature exists to allow easy swapping of different asset sets when defining a model object. The next part of the tutorial will discuss how to define and optimize a model object."
   ]
  },
  {
   "cell_type": "markdown",
   "metadata": {},
   "source": [
    "<u><b>2. Defining a Model Object</u></b>\n",
    "\n",
    "In this example we are running a simple MVO model on our set of assets. In order to set up the MVO object we call the function \"SimpleMVO\". The built in MVO function set up the following objective function.\n",
    "\n",
    "\\begin{align}\n",
    "&\\text{minimize} && w^\\top\\Sigma w \\\\\n",
    "&\\text{subject to} && \\mu^\\top w\\geq r_{\\min} \\\\\n",
    "&       && \\mathbf{1}^\\top w = 1 \\\\\n",
    "&       && w \\succeq 0 \\\\\n",
    "&       && \\sum_{i=1}^{\\infty}{w_i} \\succeq 0 \\\\\n",
    "\\end{align}"
   ]
  },
  {
   "cell_type": "code",
   "execution_count": 45,
   "metadata": {
    "collapsed": false
   },
   "outputs": [],
   "source": [
    "target_return = 0.2\n",
    "mvo = SimpleMVO(assets, target_return; short_sale=false)\n",
    "print(\"\")"
   ]
  },
  {
   "cell_type": "markdown",
   "metadata": {},
   "source": [
    "We now have created a simple MVO model object called \"mvo\". In order to run the optimization we call the \"optimize\" function, passing the MVO object as a parameter. The printed output represents the optimized weights for the defined assets given their expected returns and covariances. "
   ]
  },
  {
   "cell_type": "code",
   "execution_count": 36,
   "metadata": {
    "collapsed": false
   },
   "outputs": [
    {
     "data": {
      "text/plain": [
       "(0.6770945295038107,[0.23139516562088264,5.639370208919988e-11,0.2268200385109376,0.08008854839530366,0.07396216415563542,0.08548711025588242,0.11481169593806027,0.09054634792972655,0.09688892912978656,7.389778756327122e-12])"
      ]
     },
     "execution_count": 36,
     "metadata": {},
     "output_type": "execute_result"
    }
   ],
   "source": [
    "optimize(mvo)"
   ]
  },
  {
   "cell_type": "markdown",
   "metadata": {},
   "source": [
    "<u><b>3. User-Defined Constraints & Parameters</u></b>\n",
    "\n",
    "Another phenomenal feature of JuPOT is the fact that the user can dynamically defined, modify, and delete constraints for the model they are using. This section will outline this trailblazing process by demonstrating the constraints listed below that will be used for the MVO model we defined earlier in the tutorial.\n",
    "\n",
    "* Asset Grouping Constraints\n",
    "* Modifying Constraint Parameters\n",
    "* Deleting a Constraint\n",
    "* Adding Multiple Constraints\n",
    "\n",
    "Before we go to the examples some background on the Constraints Object. The Constraints object is defined as a dictionary that will contain the constraints in the form of \"expressions\" which are equivalent to their mathematical form. The following example best highlights this fact.\n",
    "\n",
    "Say you want to define an expression that states all of the technology stocks in the portfolio are required to be less than or equal to a defined threshold (t). \n",
    "\n",
    "$TechStock <= TechThreshold$      is written as      $dot(weights,TechStocks) <= TechThreshold)$\n",
    "\n",
    "Where the function $dot(weights, TechStocks) extracts the weights that are related to the technology stocks using the labeling vector TechStocks. The important thing to note is that no numerical values have been used (ie only expressions). We will now see how this concept is applied to defining a constraint.\n",
    "\n",
    "<b>Asset Group Constraints Example</b>"
   ]
  },
  {
   "cell_type": "code",
   "execution_count": 82,
   "metadata": {
    "collapsed": true
   },
   "outputs": [],
   "source": [
    "constraints = Dict((:constraint1 => :(dot(w,tech) <= tech_thresh)),\n",
    "                   (:constraint2 => :(dot(w,fin) <= Fin_thresh)))\n",
    "print(\"\")"
   ]
  },
  {
   "cell_type": "markdown",
   "metadata": {},
   "source": [
    "Great! So now we have defined our constraints but we are still missing the parameters (ie the values we want for tech_thresh and Fin_thresh). Setting the parameters for our constraints is done separately in order to facilitate easy modifications. Essentially once you have defined your constraints you can change the parameters by simply redefining the Parameter's Dictionary without having to modify the Constraints. The next example illustrates this concept.\n",
    "\n",
    "<b>Defining Parameters Example</b>"
   ]
  },
  {
   "cell_type": "code",
   "execution_count": 90,
   "metadata": {
    "collapsed": false
   },
   "outputs": [],
   "source": [
    "parameters = Dict(:tech=>[0,0,1,1,0,1,0,1,1,0], # remember from the constraints we defined above, tech is the labeling vector\n",
    ":tech_thresh => 0.3, # this threshold indicates the maximum weight allowed for tech stocks\n",
    ":fin=> [1,1,0,0,1,0,1,0,0,0], # This is the labeling vector for finance stocks\n",
    ":Fin_thresh => 0.1) # this threshold defines the maximum weight for finance stocks allowed\n",
    "print(\"\")"
   ]
  },
  {
   "cell_type": "markdown",
   "metadata": {},
   "source": [
    "To illustrate one of the benefits of using JuPOT the next example will show how to change a parameter. Say for example, you wish to alter the maximum weight threshold for tech stocks in response to a new investment strategy. The following code will show exactly how simple such a change is."
   ]
  },
  {
   "cell_type": "code",
   "execution_count": 91,
   "metadata": {
    "collapsed": false
   },
   "outputs": [],
   "source": [
    "# Remember that we defined our parameters as a dictionary\n",
    "parameters[:tech_thresh] = 0.6 # Voila!\n",
    "print(\"\")"
   ]
  },
  {
   "cell_type": "markdown",
   "metadata": {},
   "source": [
    "Now that we have defined a set of constraints and parameters lets move onto how we incorporate these into our MVO object. To add user-defined constraints to an MVO object we simply pass the constraints dictionary as an extra parameter as shown in the following example.\n",
    "\n",
    "<b>MVO with User-Defined Constraints</b>"
   ]
  },
  {
   "cell_type": "code",
   "execution_count": 86,
   "metadata": {
    "collapsed": false
   },
   "outputs": [
    {
     "data": {
      "text/plain": [
       "\n",
       " Variables: \n",
       "w[1:10] >= 0\n",
       "\n",
       " Constraints: \n",
       "2x2 DataFrames.DataFrame\n",
       "| Row | Keys        | Constraint                    |\n",
       "|-----|-------------|-------------------------------|\n",
       "| 1   | constraint1 | :(dot(w,tech) <= tech_thresh) |\n",
       "| 2   | constraint2 | :(dot(w,fin) <= Fin_thresh)   |\n",
       "\n",
       "\n",
       " Assets: \n",
       " 10x2 DataFrames.DataFrame\n",
       "| Row | A     | B         |\n",
       "|-----|-------|-----------|\n",
       "| 1   | \"d5j\" | 0.47117   |\n",
       "| 2   | \"5ce\" | 0.0442691 |\n",
       "| 3   | \"fw2\" | 0.619319  |\n",
       "| 4   | \"lsu\" | 0.0110536 |\n",
       "| 5   | \"GtC\" | 0.133128  |\n",
       "| 6   | \"CyY\" | 0.840685  |\n",
       "| 7   | \"s9w\" | 0.0744033 |\n",
       "| 8   | \"1pP\" | 0.0532713 |\n",
       "| 9   | \"9GR\" | 0.71077   |\n",
       "| 10  | \"wIC\" | 0.893267  | \n"
      ]
     },
     "execution_count": 86,
     "metadata": {},
     "output_type": "execute_result"
    }
   ],
   "source": [
    "mvo = SimpleMVO(assets, target_return, constraints; short_sale=false)"
   ]
  },
  {
   "cell_type": "markdown",
   "metadata": {},
   "source": [
    "Congratulations! You have succesfully added your own custom constraints to the MVO model and did not throw the computer out the window. IT will be excstatic. \n",
    "\n",
    "To run the optimization you now need to pass the parameters dictionary as an additional argument to the optimize function."
   ]
  },
  {
   "cell_type": "code",
   "execution_count": 87,
   "metadata": {
    "collapsed": false
   },
   "outputs": [
    {
     "data": {
      "text/plain": [
       "(11.90649844572114,[2.2794628281174675e-10,0.04999999937492011,4.617478125408177e-11,0.049999999823038405,1.1705825938750947e-10,1.8514010361178518e-11,1.8930647260561038e-10,2.788472943401233e-11,7.245548765584464e-11,0.9000000001027015])"
      ]
     },
     "execution_count": 87,
     "metadata": {},
     "output_type": "execute_result"
    }
   ],
   "source": [
    "optimize(mvo, parameters)"
   ]
  },
  {
   "cell_type": "markdown",
   "metadata": {},
   "source": [
    "The last thing to learn before moving onto the next section is how to add constraints and merge different sets of constraints. Because the constraints object is defined as a dictionary it is quite simple to merge two sets of constraints. Watch out, when you merge constraints to create a larger dictionary of constraints don't forget to do the same for the parameters."
   ]
  },
  {
   "cell_type": "code",
   "execution_count": 95,
   "metadata": {
    "collapsed": false
   },
   "outputs": [
    {
     "data": {
      "text/plain": [
       "Dict{Symbol,Any} with 7 entries:\n",
       "  :tech        => [0,0,1,1,0,1,0,1,1,0]\n",
       "  :tech_thresh => 0.6\n",
       "  :max_thresh  => 0.7\n",
       "  :fin         => [1,1,0,0,1,0,1,0,0,0]\n",
       "  :n           => 10\n",
       "  :Fin_thresh  => 0.1\n",
       "  :min_thresh  => 0"
      ]
     },
     "execution_count": 95,
     "metadata": {},
     "output_type": "execute_result"
    }
   ],
   "source": [
    "constraints_1 = [symbol(\"x$i\") => :(min_thresh <= w[$i]) for i=1:n] # this sets a minimum weight for each asset\n",
    "constraints_2 = [symbol(\"y$i\") => :( w[$i] <= max_thresh) for i=1:n] # this sets a maximum weight for each asset\n",
    "\n",
    "parameters_1 = Dict(:min_thresh => 0, :max_thresh => 0.7, :n => n)\n",
    "\n",
    "constraints = merge(constraints,constraints_1,constraints_2) # you just merged three sets of constraints\n",
    "parameters = merge(parameters,parameters_1) # an now you merged their set of parameters"
   ]
  },
  {
   "cell_type": "markdown",
   "metadata": {},
   "source": [
    "Notice that in the output you see all the relevant parameters needed to evaluate the constraints set you just defined. The next part will show how to delete a constraint from the master list.\n",
    "\n",
    "<b>Note</b> that we also delete the respective parameter as well. This is not necessary but is it is good practice."
   ]
  },
  {
   "cell_type": "code",
   "execution_count": 98,
   "metadata": {
    "collapsed": false
   },
   "outputs": [
    {
     "data": {
      "text/plain": [
       "Dict{Symbol,Any} with 6 entries:\n",
       "  :tech        => [0,0,1,1,0,1,0,1,1,0]\n",
       "  :tech_thresh => 0.6\n",
       "  :max_thresh  => 0.7\n",
       "  :fin         => [1,1,0,0,1,0,1,0,0,0]\n",
       "  :n           => 10\n",
       "  :min_thresh  => 0"
      ]
     },
     "execution_count": 98,
     "metadata": {},
     "output_type": "execute_result"
    }
   ],
   "source": [
    "delete!(constraints, :constraint2)\n",
    "delete!(parameters, :Fin_thresh)"
   ]
  },
  {
   "cell_type": "markdown",
   "metadata": {},
   "source": [
    "Now to run the optimization with the newly modified/defined constraints simply repeat the procedure shown earlier where you instantiate a model object using the new constraints & parameters dictionary as input arguments."
   ]
  },
  {
   "cell_type": "code",
   "execution_count": 99,
   "metadata": {
    "collapsed": false
   },
   "outputs": [
    {
     "data": {
      "text/plain": [
       "(0.7950797830454557,[0.14793896011925078,0.14250828049828448,0.06065446429498908,0.06685276760919971,0.09784209811932233,0.07066037147158193,0.24205710864439633,0.05616846274299124,0.0751363309355665,0.04018115556440407])"
      ]
     },
     "execution_count": 99,
     "metadata": {},
     "output_type": "execute_result"
    }
   ],
   "source": [
    "mvo = SimpleMVO(assets, target_return, constraints; short_sale=false)\n",
    "optimize(mvo, parameters)"
   ]
  },
  {
   "cell_type": "markdown",
   "metadata": {},
   "source": [
    "<i><b>The End</b></i>\n",
    "\n",
    "You've now completed the introductory JuPOT tutorial and are now ready to take advantage of the features this financial portfolio optimization package has to offer. Now go generate some SWEET DELICIOUS RETURNS!"
   ]
  }
 ],
 "metadata": {
  "kernelspec": {
   "display_name": "Julia 0.4.3",
   "language": "julia",
   "name": "julia-0.4"
  },
  "language_info": {
   "file_extension": ".jl",
   "mimetype": "application/julia",
   "name": "julia",
   "version": "0.4.3"
  }
 },
 "nbformat": 4,
 "nbformat_minor": 0
}
