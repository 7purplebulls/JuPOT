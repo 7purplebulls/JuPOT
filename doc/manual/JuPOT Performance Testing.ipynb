{
 "cells": [
  {
   "cell_type": "markdown",
   "metadata": {},
   "source": [
    "## JuPOT Benchmark Test\n",
    "\n",
    "Welcome to the JuPOT Performance Test\n",
    "\n",
    "julia> Pkg.add(\"Clp\")"
   ]
  },
  {
   "cell_type": "code",
   "execution_count": null,
   "metadata": {
    "collapsed": true
   },
   "outputs": [],
   "source": [
    "# For Windows Users\n",
    "push!(LOAD_PATH, \"$(homedir())/Documents/RBC_Capstone/financial-opt-tools/src\")\n",
    "\n",
    "# For Mac Users\n",
    "# push!(LOAD_PATH, \"$(homedir())/desktop/financial-opt-tools/src\")\n",
    "print(\"\") # Dont mind these print statements"
   ]
  }
 ],
 "metadata": {
  "kernelspec": {
   "display_name": "Julia 0.4.3",
   "language": "julia",
   "name": "julia-0.4"
  },
  "language_info": {
   "file_extension": ".jl",
   "mimetype": "application/julia",
   "name": "julia",
   "version": "0.4.3"
  }
 },
 "nbformat": 4,
 "nbformat_minor": 0
}
