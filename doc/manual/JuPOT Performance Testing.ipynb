{
 "cells": [
  {
   "cell_type": "markdown",
   "metadata": {},
   "source": [
    "## JuPOT Benchmark Test\n",
    "\n",
    "Welcome to the JuPOT Performance Test. As part of the design team's initial requirements we will demonstrate the performance our our platform through a series of timed actions that will normally occur during use\n"
   ]
  },
  {
   "cell_type": "code",
   "execution_count": 1,
   "metadata": {
    "collapsed": true
   },
   "outputs": [],
   "source": [
    "# For Windows Users\n",
    "push!(LOAD_PATH, \"$(homedir())/Documents/RBC_Capstone/financial-opt-tools/src\")\n",
    "using JuPOT\n",
    "print(\"\") # Dont mind these print statements"
   ]
  },
  {
   "cell_type": "markdown",
   "metadata": {},
   "source": [
    "<u><b> 1. Measuring the Performance of Optimizing 5000 assets </u></b>"
   ]
  },
  {
   "cell_type": "code",
   "execution_count": 2,
   "metadata": {
    "collapsed": true
   },
   "outputs": [],
   "source": [
    "n = 5000 # No. Of Assets\n",
    "returns = rand(n) # Returns a matrix of size(n) with entries between 0-1s\n",
    "covariance = let # This part generates a covariance matrix for the returns\n",
    "    S = randn(n, n)\n",
    "    S'S + eye(n)\n",
    "end\n",
    "\n",
    "tickers = [randstring(3) for i in 1:n] # List of asset names\n",
    "print(\"\")"
   ]
  },
  {
   "cell_type": "markdown",
   "metadata": {},
   "source": [
    "<u> Time Taken for Generating Assets Object </u>"
   ]
  },
  {
   "cell_type": "code",
   "execution_count": 3,
   "metadata": {
    "collapsed": false
   },
   "outputs": [
    {
     "name": "stdout",
     "output_type": "stream",
     "text": [
      "elapsed time: 1.585520616 seconds\n",
      "1.585520616"
     ]
    }
   ],
   "source": [
    "# Assets data structure containing, names, expected returns, covarariance\n",
    "tic();\n",
    "assets = AssetsCollection(tickers, returns, covariance)\n",
    "print(toc())\n",
    "print(\"\")"
   ]
  },
  {
   "cell_type": "markdown",
   "metadata": {},
   "source": [
    "<u> Time Taken for Generating Model Object </u>"
   ]
  },
  {
   "cell_type": "code",
   "execution_count": 4,
   "metadata": {
    "collapsed": false
   },
   "outputs": [
    {
     "name": "stdout",
     "output_type": "stream",
     "text": [
      "elapsed time: 0.076049906 seconds\n",
      "0.076049906"
     ]
    }
   ],
   "source": [
    "tic();\n",
    "target_return = 0.2\n",
    "mvo = SimpleMVO(assets, target_return; short_sale=false)\n",
    "print(toc())\n",
    "print(\"\")"
   ]
  },
  {
   "cell_type": "markdown",
   "metadata": {},
   "source": [
    "<u> Time Taken for Optimizing the Portfolio </u>"
   ]
  },
  {
   "cell_type": "code",
   "execution_count": 5,
   "metadata": {
    "collapsed": false
   },
   "outputs": [
    {
     "name": "stdout",
     "output_type": "stream",
     "text": [
      "Optimize a model with 2 rows, 5000 columns and 10000 nonzeros\n",
      "Model has 12502500 quadratic objective terms\n",
      "Coefficient statistics:\n",
      "  Matrix range    [1e-04, 1e+00]\n",
      "  Objective range [0e+00, 0e+00]\n",
      "  Bounds range    [0e+00, 0e+00]\n",
      "  RHS range       [2e-01, 1e+00]\n",
      "Presolve removed 0 rows and 0 columns (presolve time = 7s) ...\n",
      "Presolve time: 6.86s\n",
      "Presolved: 2 rows, 5000 columns, 10000 nonzeros\n",
      "Presolved model has 12502500 quadratic objective terms\n",
      "Ordering time: 0.24s\n",
      "\n",
      "Barrier statistics:\n",
      " Free vars  : 4999\n",
      " AA' NZ     : 1.250e+07\n",
      " Factor NZ  : 1.251e+07 (roughly 100 MBytes of memory)\n",
      " Factor Ops : 4.170e+10 (roughly 17 seconds per iteration)\n",
      " Threads    : 2\n",
      "\n",
      "                  Objective                Residual\n",
      "Iter       Primal          Dual         Primal    Dual     Compl     Time\n",
      "   0   2.76744130e+05 -2.76744130e+05  5.00e+06 1.89e-05  1.00e+06    53s\n",
      "   1   9.28962171e+04 -9.39730968e+04  3.63e+04 1.37e-07  7.32e+03    90s\n",
      "   2   4.42458165e+03 -5.51854901e+03  6.65e+02 2.51e-09  1.38e+02   128s\n",
      "   3   3.63104052e+02 -1.46358041e+03  6.92e+00 2.62e-11  1.80e+00   168s\n",
      "   4   3.68307124e+01 -8.67797678e+02  6.92e-06 1.39e-16  1.81e-01   208s\n",
      "   5   1.03416998e+01 -2.98311759e+01  1.46e-07 5.55e-17  8.03e-03   286s\n",
      "   6   1.95928402e+00 -2.11814779e+01  1.45e-13 1.49e-13  4.63e-03   418s\n",
      "   7   7.81005360e-01 -2.58160013e+00  3.11e-15 4.26e-14  6.72e-04   547s\n",
      "   8   3.95868773e-01 -4.97397687e-01  2.22e-16 2.58e-14  1.79e-04   682s\n",
      "   9   2.71697264e-01  1.11576706e-01  8.22e-15 1.91e-14  3.20e-05   758s\n",
      "  10   2.33111971e-01  1.93388854e-01  7.11e-15 1.71e-14  7.94e-06   830s\n",
      "  11   2.22970498e-01  2.20268138e-01  2.22e-15 1.66e-14  5.40e-07   897s\n",
      "  12   2.21935213e-01  2.21801194e-01  2.66e-15 1.37e-14  2.68e-08   960s\n",
      "  13   2.21880647e-01  2.21877321e-01  6.66e-15 1.33e-14  6.65e-10  1024s\n",
      "  14   2.21879059e-01  2.21878916e-01  9.55e-14 1.78e-14  2.86e-11  1074s\n",
      "  15   2.21879000e-01  2.21878993e-01  2.77e-12 2.00e-14  1.41e-12  1125s\n",
      "\n",
      "Barrier solved model in 15 iterations and 1124.76 seconds\n",
      "Optimal objective 2.21879000e-01\n",
      "\n",
      "elapsed time: 1191.504261182 seconds\n",
      "1191.504261182"
     ]
    }
   ],
   "source": [
    "tic();\n",
    "optimize(mvo)\n",
    "print(toc())"
   ]
  },
  {
   "cell_type": "markdown",
   "metadata": {},
   "source": [
    "<u><b> 2. Measuring the Performance of Optimizing 5000 assets with Constraints</u></b>"
   ]
  },
  {
   "cell_type": "markdown",
   "metadata": {},
   "source": [
    "<u> Time Taken to Generate Constraints and Parameters Objects </u>"
   ]
  },
  {
   "cell_type": "code",
   "execution_count": 12,
   "metadata": {
    "collapsed": false
   },
   "outputs": [
    {
     "name": "stdout",
     "output_type": "stream",
     "text": [
      "elapsed time: 0.053123339 seconds\n",
      "0.053123339"
     ]
    }
   ],
   "source": [
    "tic();\n",
    "constraints = [symbol(\"x$i\") => :(min_thresh <= w[$i]) for i=1:n] # this sets a minimum weight for each asset\n",
    "constraints_2 = [symbol(\"y$i\") => :( w[$i] <= max_thresh) for i=1:n] # this sets a maximum weight for each asset\n",
    "parameters = Dict(:min_thresh => 0, :max_thresh => 0.7, :n => n)\n",
    "constraints = merge(constraints,constraints_2) # you just merged three sets of constraints\n",
    "print(toc())\n",
    "print(\"\")"
   ]
  },
  {
   "cell_type": "code",
   "execution_count": null,
   "metadata": {
    "collapsed": true
   },
   "outputs": [],
   "source": [
    "tic();\n",
    "mvo = SimpleMVO(assets, target_return, constraints; short_sale=false)\n",
    "optimize(mvo, parameters)\n",
    "print(toc())\n",
    "print(\"\")"
   ]
  }
 ],
 "metadata": {
  "kernelspec": {
   "display_name": "Julia 0.4.3",
   "language": "julia",
   "name": "julia-0.4"
  },
  "language_info": {
   "file_extension": ".jl",
   "mimetype": "application/julia",
   "name": "julia",
   "version": "0.4.3"
  }
 },
 "nbformat": 4,
 "nbformat_minor": 0
}
